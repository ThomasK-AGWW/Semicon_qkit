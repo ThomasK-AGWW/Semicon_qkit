{
 "cells": [
  {
   "cell_type": "code",
   "execution_count": 1,
   "metadata": {
    "collapsed": false,
    "deletable": true,
    "editable": true,
    "init_cell": true
   },
   "outputs": [
    {
     "name": "stdout",
     "output_type": "stream",
     "text": [
      "QKIT configuration initialized -> available as qkit.cfg[...]\n",
      "Starting QKIT framework ... -> qkit.core.startup\n",
      "Loading module ... S10_logging.py\n",
      "Loading module ... S14_setup_directories.py\n",
      "Loading module ... S16_available_modules.py\n",
      "Loading module ... S20_check_for_updates.py\n",
      "Loading module ... S25_info_service.py\n",
      "Loading module ... S30_qkit_start.py\n",
      "Loading module ... S65_load_RI_service.py\n",
      "Loading module ... S70_load_visa.py\n",
      "Loading module ... S80_load_file_service.py\n",
      "Loading module ... S85_init_measurement.py\n"
     ]
    },
    {
     "data": {
      "application/vnd.jupyter.widget-view+json": {
       "model_id": "629dc508ed744a198812b05e9916c20d"
      }
     },
     "metadata": {},
     "output_type": "display_data"
    },
    {
     "name": "stdout",
     "output_type": "stream",
     "text": [
      "Loading module ... S98_started.py\n",
      "Loading module ... S99_init_user.py\n",
      "Initialized the file info database (qkit.fid) in 0.414 seconds.\n"
     ]
    }
   ],
   "source": [
    "import qkit\n",
    "qkit.start()\n",
    "import qkit.measure.samples_class as sc\n",
    "\n",
    "import numpy as np\n",
    "from qkit.measure.spin_tune import spin_tune\n",
    "import numpy as np\n",
    "import matplotlib.pyplot as plt\n",
    "IV_test = spin_tune.IV_meas()"
   ]
  },
  {
   "cell_type": "markdown",
   "metadata": {},
   "source": [
    "## Nicht live bei frischem Kernel"
   ]
  },
  {
   "cell_type": "code",
   "execution_count": 2,
   "metadata": {
    "collapsed": false,
    "deletable": true,
    "editable": true
   },
   "outputs": [
    {
     "data": {
      "application/vnd.jupyter.widget-view+json": {
       "model_id": "c3aefdde448342a78473457da88d1487"
      }
     },
     "metadata": {},
     "output_type": "display_data"
    },
    {
     "data": {
      "application/vnd.jupyter.widget-view+json": {
       "model_id": "aee9f6bbe7cc4c0196738ea696e680ed"
      }
     },
     "metadata": {},
     "output_type": "display_data"
    },
    {
     "name": "stdout",
     "output_type": "stream",
     "text": [
      "/home/ws/lr1740/Dokumente/Doktorarbeit/Code/Semi_Software/qkit/qkit/data/1/2/QRZ1YT_1D_gate1/QRZ1YT_1D_gate1.h5\n",
      "Plots saved in /home/ws/lr1740/Dokumente/Doktorarbeit/Code/Semi_Software/qkit/qkit/data/1/2/QRZ1YT_1D_gate1/images\n"
     ]
    }
   ],
   "source": [
    "from itertools import count\n",
    "iterator = count(0)\n",
    "\n",
    "def get_funky_data():\n",
    "    return np.sin(next(iterator)*np.pi/20)\n",
    "    \n",
    "def run(a):\n",
    "    pass\n",
    "\n",
    "IV_test.set_x_parameters(np.arange(0, -1 , -0.01), coordname = \"gate1\", set_obj = run, unit = \"V\", dt = 0.1)\n",
    "IV_test.set_get_value_func(get_funky_data)\n",
    "IV_test.measure1D()"
   ]
  },
  {
   "cell_type": "markdown",
   "metadata": {},
   "source": [
    "## Live, aber mit Exception, scheint aber zu funktionieren"
   ]
  },
  {
   "cell_type": "code",
   "execution_count": 10,
   "metadata": {
    "collapsed": false,
    "deletable": true,
    "editable": true
   },
   "outputs": [
    {
     "data": {
      "application/vnd.jupyter.widget-view+json": {
       "model_id": "f2d37e19439b45b29c1d347253726777"
      }
     },
     "metadata": {},
     "output_type": "display_data"
    },
    {
     "data": {
      "application/vnd.jupyter.widget-view+json": {
       "model_id": "95fb09f561854bdd9cf83f30ed8c828e"
      }
     },
     "metadata": {},
     "output_type": "display_data"
    },
    {
     "name": "stdout",
     "output_type": "stream",
     "text": [
      "/home/ws/lr1740/Dokumente/Doktorarbeit/Code/Semi_Software/qkit/qkit/data/1/2/QRYZU3_1D_gate1/QRYZU3_1D_gate1.h5\n",
      "Exception in qkit/gui/plot/plot.py while plotting\n",
      "/entry/data0/i\n",
      "'h5plot' object has no attribute 'x_exp'\n",
      "Plots saved in /home/ws/lr1740/Dokumente/Doktorarbeit/Code/Semi_Software/qkit/qkit/data/1/2/QRYZU3_1D_gate1/images\n"
     ]
    }
   ],
   "source": [
    "IV_test.measure1D()"
   ]
  },
  {
   "cell_type": "code",
   "execution_count": 12,
   "metadata": {
    "collapsed": false,
    "deletable": true,
    "editable": true
   },
   "outputs": [
    {
     "data": {
      "text/plain": [
       "<qkit.measure.measurement_base.MeasureBase.Coordinate at 0x7ff469b07748>"
      ]
     },
     "execution_count": 12,
     "metadata": {},
     "output_type": "execute_result"
    }
   ],
   "source": [
    "IV_test._x_parameter"
   ]
  },
  {
   "cell_type": "markdown",
   "metadata": {},
   "source": [
    "## Jetzt gehts auch ohne Fehler live"
   ]
  },
  {
   "cell_type": "code",
   "execution_count": 3,
   "metadata": {
    "collapsed": false
   },
   "outputs": [
    {
     "data": {
      "application/vnd.jupyter.widget-view+json": {
       "model_id": "98018a78b8054ab3ba1fa69b5f9d29ac"
      }
     },
     "metadata": {},
     "output_type": "display_data"
    },
    {
     "data": {
      "application/vnd.jupyter.widget-view+json": {
       "model_id": "30242998402d4bb8ba3252f864aaa180"
      }
     },
     "metadata": {},
     "output_type": "display_data"
    },
    {
     "name": "stdout",
     "output_type": "stream",
     "text": [
      "/home/ws/lr1740/Dokumente/Doktorarbeit/Code/Semi_Software/qkit/qkit/data/Team_Angel/Dennis/QRYYWA_1D_gate1/QRYYWA_1D_gate1.h5\n",
      "Plots saved in /home/ws/lr1740/Dokumente/Doktorarbeit/Code/Semi_Software/qkit/qkit/data/Team_Angel/Dennis/QRYYWA_1D_gate1/images\n"
     ]
    }
   ],
   "source": [
    "IV_test.set_x_parameters(np.arange(0, -1 , -0.01), coordname = \"gate1\", set_obj = run, unit = \"V\", dt = 0.1)\n",
    "IV_test.measure1D()"
   ]
  },
  {
   "cell_type": "markdown",
   "metadata": {},
   "source": [
    "## Neuer Kernel, neues Glück, aber kein liveplot"
   ]
  },
  {
   "cell_type": "code",
   "execution_count": 5,
   "metadata": {
    "collapsed": false
   },
   "outputs": [
    {
     "data": {
      "application/vnd.jupyter.widget-view+json": {
       "model_id": "2aebe9ce8d1e46c696ba5f74da6445a5"
      }
     },
     "metadata": {},
     "output_type": "display_data"
    },
    {
     "data": {
      "application/vnd.jupyter.widget-view+json": {
       "model_id": "b7cffd2d9ed34343bee112fc8c055789"
      }
     },
     "metadata": {},
     "output_type": "display_data"
    },
    {
     "name": "stdout",
     "output_type": "stream",
     "text": [
      "Do I ever go in here?\n",
      "Peekaboo\n",
      "/home/ws/lr1740/Dokumente/Doktorarbeit/Code/Semi_Software/qkit/qkit/data/Inglorious_Basterds/Team_Semiconductor/QRYUAV_3D_hist_I_hist_phase_x_iteration_whatevs_hist_Q_hist_amp_x/QRYUAV_3D_hist_I_hist_phase_x_iteration_whatevs_hist_Q_hist_amp_x.h5\n",
      "Plots saved in /home/ws/lr1740/Dokumente/Doktorarbeit/Code/Semi_Software/qkit/qkit/data/Inglorious_Basterds/Team_Semiconductor/QRYUAV_3D_hist_I_hist_phase_x_iteration_whatevs_hist_Q_hist_amp_x/images\n"
     ]
    }
   ],
   "source": [
    "from qkit.measure.examples.Andres_example1 import Cloud\n",
    "cloudM = Cloud()\n",
    "cloudM.set_x_parameters(np.arange(0, -1 , -0.01), coordname = \"whatevs\", set_obj = lambda: True, unit = \"V\", dt = None)\n",
    "cloudM.measure_2D()"
   ]
  },
  {
   "cell_type": "markdown",
   "metadata": {},
   "source": [
    "## Wieder mit Fehler, aber diesmal ein anderer"
   ]
  },
  {
   "cell_type": "code",
   "execution_count": 6,
   "metadata": {
    "collapsed": false,
    "deletable": true,
    "editable": true
   },
   "outputs": [
    {
     "data": {
      "application/vnd.jupyter.widget-view+json": {
       "model_id": "e9b9536d2ac6456fa76f43fef083a6f1"
      }
     },
     "metadata": {},
     "output_type": "display_data"
    },
    {
     "data": {
      "application/vnd.jupyter.widget-view+json": {
       "model_id": "20117ea6f0db456c92b4222aff495018"
      }
     },
     "metadata": {},
     "output_type": "display_data"
    },
    {
     "name": "stdout",
     "output_type": "stream",
     "text": [
      "Do I ever go in here?\n",
      "Peekaboo\n",
      "/home/ws/lr1740/Dokumente/Doktorarbeit/Code/Semi_Software/qkit/qkit/data/Inglorious_Basterds/Team_Semiconductor/QRYUBI_3D_hist_I_hist_phase_x_iteration_whatevs_hist_Q_hist_amp_x/QRYUBI_3D_hist_I_hist_phase_x_iteration_whatevs_hist_Q_hist_amp_x.h5\n",
      "Exception in qkit/gui/plot/plot.py while plotting\n",
      "/entry/analysis0/hist_amp\n",
      "\"Unable to open object (object 'whatevs' doesn't exist)\"\n",
      "Exception in qkit/gui/plot/plot.py while plotting\n",
      "/entry/analysis0/hist_iq\n",
      "\"Unable to open object (object 'whatevs' doesn't exist)\"\n",
      "Exception in qkit/gui/plot/plot.py while plotting\n",
      "/entry/analysis0/hist_phase\n",
      "\"Unable to open object (object 'whatevs' doesn't exist)\"\n",
      "Exception in qkit/gui/plot/plot.py while plotting\n",
      "/entry/data0/i\n",
      "\"Unable to open object (object 'whatevs' doesn't exist)\"\n",
      "Exception in qkit/gui/plot/plot.py while plotting\n",
      "/entry/data0/q\n",
      "\"Unable to open object (object 'whatevs' doesn't exist)\"\n",
      "Plots saved in /home/ws/lr1740/Dokumente/Doktorarbeit/Code/Semi_Software/qkit/qkit/data/Inglorious_Basterds/Team_Semiconductor/QRYUBI_3D_hist_I_hist_phase_x_iteration_whatevs_hist_Q_hist_amp_x/images\n"
     ]
    }
   ],
   "source": [
    "cloudM.measure_2D()"
   ]
  },
  {
   "cell_type": "markdown",
   "metadata": {},
   "source": [
    "## Jetzt gehts auch ohne Fehler live"
   ]
  },
  {
   "cell_type": "code",
   "execution_count": 7,
   "metadata": {
    "collapsed": false
   },
   "outputs": [
    {
     "data": {
      "application/vnd.jupyter.widget-view+json": {
       "model_id": "846847d493e440b1abe12012054dface"
      }
     },
     "metadata": {},
     "output_type": "display_data"
    },
    {
     "data": {
      "application/vnd.jupyter.widget-view+json": {
       "model_id": "86928116c7424bbebd1e0c39946ecc21"
      }
     },
     "metadata": {},
     "output_type": "display_data"
    },
    {
     "name": "stdout",
     "output_type": "stream",
     "text": [
      "Do I ever go in here?\n",
      "Peekaboo\n",
      "/home/ws/lr1740/Dokumente/Doktorarbeit/Code/Semi_Software/qkit/qkit/data/Inglorious_Basterds/Team_Semiconductor/QRYUC6_3D_hist_I_hist_phase_x_iteration_whatevs_hist_Q_hist_amp_x/QRYUC6_3D_hist_I_hist_phase_x_iteration_whatevs_hist_Q_hist_amp_x.h5\n",
      "Plots saved in /home/ws/lr1740/Dokumente/Doktorarbeit/Code/Semi_Software/qkit/qkit/data/Inglorious_Basterds/Team_Semiconductor/QRYUC6_3D_hist_I_hist_phase_x_iteration_whatevs_hist_Q_hist_amp_x/images\n"
     ]
    }
   ],
   "source": [
    "cloudM.set_x_parameters(np.arange(0, -1 , -0.01), coordname = \"whatevs\", set_obj = lambda: True, unit = \"V\", dt = None)\n",
    "cloudM.measure_2D()"
   ]
  },
  {
   "cell_type": "code",
   "execution_count": 10,
   "metadata": {
    "collapsed": false,
    "deletable": true,
    "editable": true
   },
   "outputs": [],
   "source": [
    "a = 3\n",
    "b = 4\n",
    "spin_tune = spin_tune.spin_tune()\n"
   ]
  },
  {
   "cell_type": "code",
   "execution_count": 14,
   "metadata": {
    "collapsed": false,
    "deletable": true,
    "editable": true
   },
   "outputs": [
    {
     "ename": "TypeError",
     "evalue": "qkit.measure.spin_tune.spin_tune: Cannot set 3 as get_value_func. Callable object needed",
     "output_type": "error",
     "traceback": [
      "\u001b[0;31m---------------------------------------------------------------------------\u001b[0m",
      "\u001b[0;31mTypeError\u001b[0m                                 Traceback (most recent call last)",
      "\u001b[0;32m<ipython-input-14-70acf5558c3f>\u001b[0m in \u001b[0;36m<module>\u001b[0;34m()\u001b[0m\n\u001b[0;32m----> 1\u001b[0;31m \u001b[0mspin_tune\u001b[0m\u001b[0;34m.\u001b[0m\u001b[0mset_get_value_func\u001b[0m\u001b[0;34m(\u001b[0m\u001b[0;36m3\u001b[0m\u001b[0;34m)\u001b[0m\u001b[0;34m\u001b[0m\u001b[0;34m\u001b[0m\u001b[0m\n\u001b[0m",
      "\u001b[0;32m/home/ws/lr1740/Dokumente/Doktorarbeit/Code/Semi_Software/qkit/qkit/measure/spin_tune/spin_tune.py\u001b[0m in \u001b[0;36mset_get_value_func\u001b[0;34m(self, get_func)\u001b[0m\n\u001b[1;32m     47\u001b[0m     \u001b[0;32mdef\u001b[0m \u001b[0mset_get_value_func\u001b[0m\u001b[0;34m(\u001b[0m\u001b[0mself\u001b[0m\u001b[0;34m,\u001b[0m \u001b[0mget_func\u001b[0m\u001b[0;34m)\u001b[0m\u001b[0;34m:\u001b[0m\u001b[0;34m\u001b[0m\u001b[0;34m\u001b[0m\u001b[0m\n\u001b[1;32m     48\u001b[0m         \u001b[0;32mif\u001b[0m \u001b[0;32mnot\u001b[0m \u001b[0mcallable\u001b[0m\u001b[0;34m(\u001b[0m\u001b[0mget_func\u001b[0m\u001b[0;34m)\u001b[0m\u001b[0;34m:\u001b[0m\u001b[0;34m\u001b[0m\u001b[0;34m\u001b[0m\u001b[0m\n\u001b[0;32m---> 49\u001b[0;31m             \u001b[0;32mraise\u001b[0m \u001b[0mTypeError\u001b[0m\u001b[0;34m(\u001b[0m\u001b[0;34m\"%s: Cannot set %s as get_value_func. Callable object needed\"\u001b[0m \u001b[0;34m%\u001b[0m \u001b[0;34m(\u001b[0m\u001b[0m__name__\u001b[0m\u001b[0;34m,\u001b[0m \u001b[0mget_func\u001b[0m\u001b[0;34m)\u001b[0m\u001b[0;34m)\u001b[0m\u001b[0;34m\u001b[0m\u001b[0;34m\u001b[0m\u001b[0m\n\u001b[0m\u001b[1;32m     50\u001b[0m         \u001b[0mprint\u001b[0m\u001b[0;34m(\u001b[0m\u001b[0;34m\"Still here\"\u001b[0m\u001b[0;34m)\u001b[0m\u001b[0;34m\u001b[0m\u001b[0;34m\u001b[0m\u001b[0m\n\u001b[1;32m     51\u001b[0m \u001b[0;34m\u001b[0m\u001b[0m\n",
      "\u001b[0;31mTypeError\u001b[0m: qkit.measure.spin_tune.spin_tune: Cannot set 3 as get_value_func. Callable object needed"
     ]
    }
   ],
   "source": [
    "spin_tune.set_get_value_func(3)"
   ]
  },
  {
   "cell_type": "code",
   "execution_count": 12,
   "metadata": {
    "collapsed": false,
    "deletable": true,
    "editable": true
   },
   "outputs": [
    {
     "name": "stdout",
     "output_type": "stream",
     "text": [
      "<function ugga_func at 0x7f71ab7b71e0>\n"
     ]
    }
   ],
   "source": [
    "def ugga_func():\n",
    "    pass\n",
    "a = ugga_func\n",
    "print(\"%s\" % a)"
   ]
  },
  {
   "cell_type": "code",
   "execution_count": 8,
   "metadata": {
    "collapsed": false,
    "deletable": true,
    "editable": true
   },
   "outputs": [
    {
     "name": "stdout",
     "output_type": "stream",
     "text": [
      "__main__:  Cannot set <function ugga_func at 0x7f41ce061b70> as function for coordinate 3: callable object needed\n"
     ]
    }
   ],
   "source": [
    "print('{:s}:  Cannot set {!s} as function for coordinate {!s}: callable object needed'.format(__name__, \n",
    "                                                                                        a, \n",
    "                                                                                        \"3\"))"
   ]
  },
  {
   "cell_type": "code",
   "execution_count": 46,
   "metadata": {
    "collapsed": false,
    "deletable": true,
    "editable": true
   },
   "outputs": [
    {
     "name": "stdout",
     "output_type": "stream",
     "text": [
      "5\n"
     ]
    }
   ],
   "source": [
    "class _test():\n",
    "    def __init__(self):\n",
    "        self.func1 = None\n",
    "        self.func2 = None\n",
    "\n",
    "    def set_func1(self, func, *args, **kwargs):\n",
    "        self.func1 = lambda: func(*args, **kwargs)\n",
    "    \n",
    "    def set_func2(self, func):\n",
    "        self.func2 = func\n",
    "\n",
    "def testfunc(a, b):\n",
    "    return a + b\n",
    "\n",
    "brot = _test()\n",
    "brot.set_func1(testfunc, 2, 3)\n",
    "\n",
    "print(brot.func1())"
   ]
  },
  {
   "cell_type": "code",
   "execution_count": 47,
   "metadata": {
    "collapsed": false,
    "deletable": true,
    "editable": true
   },
   "outputs": [
    {
     "name": "stdout",
     "output_type": "stream",
     "text": [
      "        self.func1 = lambda: func(*args, **kwargs)\n",
      "\n"
     ]
    }
   ],
   "source": [
    "import inspect\n",
    "print(inspect.getsource(brot.func1))"
   ]
  },
  {
   "cell_type": "code",
   "execution_count": 58,
   "metadata": {
    "collapsed": false,
    "deletable": true,
    "editable": true
   },
   "outputs": [
    {
     "name": "stdout",
     "output_type": "stream",
     "text": [
      "hi\n",
      "hi\n",
      "hi\n"
     ]
    }
   ],
   "source": [
    "str_list = [\"a\", \"b\", \"c\"]\n",
    "for element, _ in enumerate(str_list):\n",
    "    #print (element)\n",
    "    print(\"hi\")"
   ]
  },
  {
   "cell_type": "code",
   "execution_count": 56,
   "metadata": {
    "collapsed": false,
    "deletable": true,
    "editable": true
   },
   "outputs": [],
   "source": [
    "from time import sleep\n",
    "sleep(0)"
   ]
  },
  {
   "cell_type": "code",
   "execution_count": 4,
   "metadata": {
    "collapsed": false,
    "deletable": true,
    "editable": true
   },
   "outputs": [
    {
     "name": "stdout",
     "output_type": "stream",
     "text": [
      "Still here.\n"
     ]
    },
    {
     "ename": "IndexError",
     "evalue": "list index out of range",
     "output_type": "error",
     "traceback": [
      "\u001b[0;31m---------------------------------------------------------------------------\u001b[0m",
      "\u001b[0;31mIndexError\u001b[0m                                Traceback (most recent call last)",
      "\u001b[0;32m<ipython-input-4-607f939cc017>\u001b[0m in \u001b[0;36m<module>\u001b[0;34m()\u001b[0m\n\u001b[1;32m      2\u001b[0m \u001b[0mindex\u001b[0m \u001b[0;34m=\u001b[0m \u001b[0;36m3\u001b[0m\u001b[0;34m\u001b[0m\u001b[0;34m\u001b[0m\u001b[0m\n\u001b[1;32m      3\u001b[0m \u001b[0;32mtry\u001b[0m\u001b[0;34m:\u001b[0m\u001b[0;34m\u001b[0m\u001b[0;34m\u001b[0m\u001b[0m\n\u001b[0;32m----> 4\u001b[0;31m     \u001b[0mprint\u001b[0m\u001b[0;34m(\u001b[0m\u001b[0ma\u001b[0m\u001b[0;34m[\u001b[0m\u001b[0mindex\u001b[0m\u001b[0;34m]\u001b[0m\u001b[0;34m)\u001b[0m\u001b[0;34m\u001b[0m\u001b[0;34m\u001b[0m\u001b[0m\n\u001b[0m\u001b[1;32m      5\u001b[0m \u001b[0;32mfinally\u001b[0m\u001b[0;34m:\u001b[0m\u001b[0;34m\u001b[0m\u001b[0;34m\u001b[0m\u001b[0m\n\u001b[1;32m      6\u001b[0m     \u001b[0mprint\u001b[0m\u001b[0;34m(\u001b[0m\u001b[0;34m\"Still here.\"\u001b[0m\u001b[0;34m)\u001b[0m\u001b[0;34m\u001b[0m\u001b[0;34m\u001b[0m\u001b[0m\n",
      "\u001b[0;31mIndexError\u001b[0m: list index out of range"
     ]
    }
   ],
   "source": [
    "a = [\"a\", \"b\", \"c\"]\n",
    "index = 3\n",
    "try:\n",
    "    print(a[index])\n",
    "finally:\n",
    "    print(\"Still here.\")"
   ]
  },
  {
   "cell_type": "code",
   "execution_count": 13,
   "metadata": {
    "collapsed": false,
    "deletable": true,
    "editable": true
   },
   "outputs": [
    {
     "data": {
      "text/plain": [
       "[<matplotlib.lines.Line2D at 0x7f2228df67b8>]"
      ]
     },
     "execution_count": 13,
     "metadata": {},
     "output_type": "execute_result"
    },
    {
     "data": {
      "image/png": "[encoded data removed]",
      "text/plain": [
       "<matplotlib.figure.Figure at 0x7f222826df60>"
      ]
     },
     "metadata": {},
     "output_type": "display_data"
    }
   ],
   "source": [
    "from itertools import count\n",
    "iterator = count(0)\n",
    "\n",
    "def sine(a):\n",
    "    return np.sin(next(iterator)*np.pi/100)\n",
    "\n",
    "x_vals = range(0, 200)\n",
    "y_vals = []\n",
    "\n",
    "for i in range(0,200):\n",
    "    y_vals.append(sine(2))\n",
    "\n",
    "plt.plot(x_vals, y_vals)"
   ]
  },
  {
   "cell_type": "code",
   "execution_count": 7,
   "metadata": {
    "collapsed": false,
    "deletable": true,
    "editable": true
   },
   "outputs": [
    {
     "data": {
      "text/plain": [
       "count(0)"
      ]
     },
     "execution_count": 7,
     "metadata": {},
     "output_type": "execute_result"
    }
   ],
   "source": [
    "iterator"
   ]
  },
  {
   "cell_type": "code",
   "execution_count": null,
   "metadata": {
    "collapsed": true,
    "deletable": true,
    "editable": true
   },
   "outputs": [],
   "source": []
  }
 ],
 "metadata": {
  "kernelspec": {
   "display_name": "Python 3",
   "language": "python",
   "name": "python3"
  },
  "language_info": {
   "codemirror_mode": {
    "name": "ipython",
    "version": 3
   },
   "file_extension": ".py",
   "mimetype": "text/x-python",
   "name": "python",
   "nbconvert_exporter": "python",
   "pygments_lexer": "ipython3",
   "version": "3.6.9"
  },
  "toc": {
   "base_numbering": 1,
   "nav_menu": {},
   "number_sections": true,
   "sideBar": true,
   "skip_h1_title": false,
   "title_cell": "Table of Contents",
   "title_sidebar": "Contents",
   "toc_cell": false,
   "toc_position": {},
   "toc_section_display": true,
   "toc_window_display": false
  }
 },
 "nbformat": 4,
 "nbformat_minor": 2
}
